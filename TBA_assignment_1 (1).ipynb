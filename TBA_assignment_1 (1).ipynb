{
 "cells": [
  {
   "cell_type": "markdown",
   "id": "3d6f2713",
   "metadata": {},
   "source": [
    "# String Methods:\n"
   ]
  },
  {
   "cell_type": "markdown",
   "id": "65b79889",
   "metadata": {},
   "source": [
    "With rstrip(char), a character is removed from the end of a string. "
   ]
  },
  {
   "cell_type": "markdown",
   "id": "0a9a337f",
   "metadata": {},
   "source": [
    "strip(char): this function eliminates the given character from the string's two ends. "
   ]
  },
  {
   "cell_type": "markdown",
   "id": "e23367e0",
   "metadata": {},
   "source": [
    "isalnum(): Verifies that every character is an alphanumeric character. "
   ]
  },
  {
   "cell_type": "markdown",
   "id": "63fc5f99",
   "metadata": {},
   "source": [
    "isspace(): Verifies if any character is a whitespace character. "
   ]
  },
  {
   "cell_type": "markdown",
   "id": "3b90d5c0",
   "metadata": {},
   "source": [
    "split(): divides a string according to whitespace into a list."
   ]
  },
  {
   "cell_type": "markdown",
   "id": "67c6364c",
   "metadata": {},
   "source": [
    "# Regular Expressions:\n",
    "importing regular expression as regex\n",
    "where it is used in searching, processing and extracting the unstructured data.\n",
    "The offered code's tokenize function takes the input string and extracts using a regular expression pattern and the re.findall() method. After that, a list containing the extracted is printed.\n"
   ]
  },
  {
   "cell_type": "markdown",
   "id": "7adcfe61",
   "metadata": {},
   "source": [
    "# String Methods:"
   ]
  },
  {
   "cell_type": "code",
   "execution_count": 64,
   "id": "c368cc83",
   "metadata": {},
   "outputs": [
    {
     "name": "stdout",
     "output_type": "stream",
     "text": [
      "Original String: Hello, World!!\n",
      "Modified String: Hello, World\n"
     ]
    }
   ],
   "source": [
    "# Define a string\n",
    "text = \"Hello, World!!\"\n",
    "\n",
    "# Remove all exclamation marks from the end of the string\n",
    "new_text = text.rstrip('!')\n",
    "\n",
    "# Print the original and modified strings\n",
    "print(\"Original String:\", text)\n",
    "print(\"Modified String:\", new_text)"
   ]
  },
  {
   "cell_type": "code",
   "execution_count": 65,
   "id": "98d94211",
   "metadata": {},
   "outputs": [
    {
     "name": "stdout",
     "output_type": "stream",
     "text": [
      "Original String: --Hello, World!--\n",
      "Modified String: Hello, World!\n"
     ]
    }
   ],
   "source": [
    "# Define a string with leading and trailing hyphens\n",
    "text = \"--Hello, World!--\"\n",
    "\n",
    "# Remove all hyphens from both the beginning and the end of the string\n",
    "new_text = text.strip('-')\n",
    "\n",
    "# Print the original and modified strings\n",
    "print(\"Original String:\", text)\n",
    "print(\"Modified String:\", new_text)"
   ]
  },
  {
   "cell_type": "code",
   "execution_count": 68,
   "id": "3f8ba675",
   "metadata": {},
   "outputs": [
    {
     "name": "stdout",
     "output_type": "stream",
     "text": [
      "True\n",
      "False\n"
     ]
    }
   ],
   "source": [
    "text1 = \"Hello123\"\n",
    "text2 = \"Hello 123\"  # Contains a space, so not all characters are alphanumeric\n",
    "\n",
    "# Checking if all characters in text1 are alphanumeric\n",
    "result1 = text1.isalnum()\n",
    "\n",
    "# Checking if all characters in text2 are alphanumeric\n",
    "result2 = text2.isalnum()\n",
    "\n",
    "# Print the results\n",
    "print(result1)\n",
    "print(result2)"
   ]
  },
  {
   "cell_type": "code",
   "execution_count": 73,
   "id": "6a565b7f",
   "metadata": {},
   "outputs": [
    {
     "name": "stdout",
     "output_type": "stream",
     "text": [
      "'H' is not a whitespace character\n",
      "'e' is not a whitespace character\n",
      "'l' is not a whitespace character\n",
      "'l' is not a whitespace character\n",
      "'o' is not a whitespace character\n",
      "' ' is a whitespace character\n",
      "'1' is not a whitespace character\n",
      "'2' is not a whitespace character\n",
      "'3' is not a whitespace character\n"
     ]
    }
   ],
   "source": [
    "# Define a string\n",
    "text = \"Hello 123\"\n",
    "\n",
    "# Check each character in the string\n",
    "for char in text:\n",
    "    if char.isspace():\n",
    "        print(f\"'{char}' is a whitespace character\")\n",
    "    else:\n",
    "        print(f\"'{char}' is not a whitespace character\")"
   ]
  },
  {
   "cell_type": "code",
   "execution_count": 76,
   "id": "577f7ce5",
   "metadata": {},
   "outputs": [
    {
     "name": "stdout",
     "output_type": "stream",
     "text": [
      "The number of whitespace characters in '    Hello    World    ' is: 12\n"
     ]
    }
   ],
   "source": [
    "# Define a string\n",
    "text = \"    Hello    World    \"\n",
    "\n",
    "# Initialize a counter for whitespace characters\n",
    "count = 0\n",
    "\n",
    "# Check each character in the string\n",
    "for char in text:\n",
    "    if char.isspace():\n",
    "        count += 1\n",
    "\n",
    "# Print the number of whitespace characters\n",
    "print(f\"The number of whitespace characters in '{text}' is: {count}\")"
   ]
  },
  {
   "cell_type": "code",
   "execution_count": 74,
   "id": "520d1e72",
   "metadata": {},
   "outputs": [
    {
     "data": {
      "text/plain": [
       "['Positive', 'thinking', 'is', 'more', 'than', 'just', 'a', 'tagline']"
      ]
     },
     "execution_count": 74,
     "metadata": {},
     "output_type": "execute_result"
    }
   ],
   "source": [
    "#string \"Positive thinking is more than just a tagline\" is assigned to variable text\n",
    "text=\"Positive thinking is more than just a tagline\"\n",
    "#split the string \"text\" into a list\n",
    "text_a= text.split()\n",
    "#print the value of variable text_a\n",
    "text_a"
   ]
  },
  {
   "cell_type": "markdown",
   "id": "aa3e8188",
   "metadata": {},
   "source": [
    "# Digits"
   ]
  },
  {
   "cell_type": "code",
   "execution_count": 43,
   "id": "7c0c2608",
   "metadata": {},
   "outputs": [
    {
     "data": {
      "text/plain": [
       "['2024-04-11']"
      ]
     },
     "execution_count": 43,
     "metadata": {},
     "output_type": "execute_result"
    }
   ],
   "source": [
    "# Import the 're' module from 'regex' library\n",
    "import regex as re\n",
    "\n",
    "# Define a function named 'tokenize' that takes a string 'text' as input\n",
    "def tokenize(text):\n",
    "    # Use 're.findall()' method to find all occurrences of the pattern '[0-9]{4}-[0-9]{2}-[0-9]{2}' in the 'text' string\n",
    "    return re.findall(r'[0-9]{4}-[0-9]{2}-[0-9]{2}', text)\n",
    "\n",
    "# Call the 'tokenize' function with the string \"Today is 2024-04-11\"\n",
    "x = tokenize(\"Today is 2024-04-11\")\n",
    "# Print the value of the variable x\n",
    "x"
   ]
  },
  {
   "cell_type": "markdown",
   "id": "dde83f63",
   "metadata": {},
   "source": [
    "# Assertion"
   ]
  },
  {
   "cell_type": "code",
   "execution_count": 25,
   "id": "2cc667e2",
   "metadata": {},
   "outputs": [
    {
     "data": {
      "text/plain": [
       "[]"
      ]
     },
     "execution_count": 25,
     "metadata": {},
     "output_type": "execute_result"
    }
   ],
   "source": [
    "# Import the 're' module from 'regex' library\n",
    "import regex as re\n",
    "# Define a function named 'tokenize' that takes a string 'text' as input\n",
    "def tokenize(text):\n",
    "    # Use 're.findall()' method to find all occurrences of the pattern 'https?://[a-zA-Z0-9.-]+\\.[a-zA-Z]{2,}(?= )' in the 'text' string\n",
    "    return re.findall( r'https?://[a-zA-Z0-9.-]+\\.[a-zA-Z]{2,}(?= )', text) \n",
    "# Call the 'tokenize' function with the string 'Visit our website at https://example.com'\n",
    "x = tokenize('Visit our website at https://example.com')\n",
    "\n",
    "# Print the value of the variable x\n",
    "x"
   ]
  },
  {
   "cell_type": "code",
   "execution_count": 27,
   "id": "12db7960",
   "metadata": {},
   "outputs": [
    {
     "data": {
      "text/plain": [
       "['123-45-6789']"
      ]
     },
     "execution_count": 27,
     "metadata": {},
     "output_type": "execute_result"
    }
   ],
   "source": [
    "# Import the 're' module from 'regex' library\n",
    "import regex as re\n",
    "# Define a function named 'tokenize' that takes a string 'text' as input\n",
    "def tokenize(text):\n",
    "    # Use 're.findall()' method to find all occurrences of the pattern '[0-9]{3}-[0-9]{2}-[0-9]{4}(?![0-9]{4})' in the 'text' string\n",
    "    return re.findall(  r'[0-9]{3}-[0-9]{2}-[0-9]{4}(?![0-9]{4})', text)\n",
    "# Call the 'tokenize' function with the string 'Visit our website at https://example.com'\n",
    "x = tokenize('My SSN is 123-45-6789')\n",
    "# Print the value of the variable x\n",
    "x"
   ]
  },
  {
   "cell_type": "markdown",
   "id": "7eb31c3e",
   "metadata": {},
   "source": [
    "# Common Metacharacters"
   ]
  },
  {
   "cell_type": "code",
   "execution_count": 58,
   "id": "f9f2995b",
   "metadata": {},
   "outputs": [
    {
     "data": {
      "text/plain": [
       "['-6789']"
      ]
     },
     "execution_count": 58,
     "metadata": {},
     "output_type": "execute_result"
    }
   ],
   "source": [
    "# Import the 're' module from 'regex' library\n",
    "import regex as re\n",
    "# Define a function named 'tokenize' that takes a string 'text' as input\n",
    "def tokenize(text):\n",
    "     # Use 're.findall()' method to find all occurrences of the pattern '^[0-9]{5}(-[0-9]{4})?' in the 'text' string\n",
    "    return re.findall(r'^[0-9]{5}(-[0-9]{4})?',text)\n",
    "# Call the 'tokenize' function with the string '06902-6789 is the zip code'\n",
    "x = tokenize('06902-6789 is the zip code')\n",
    "# Print the value of the variable x\n",
    "x"
   ]
  },
  {
   "cell_type": "markdown",
   "id": "e0676b13",
   "metadata": {},
   "source": [
    "# Assertion"
   ]
  },
  {
   "cell_type": "code",
   "execution_count": 61,
   "id": "a44403fb",
   "metadata": {},
   "outputs": [
    {
     "data": {
      "text/plain": [
       "['(123) 456-7890', '(098) 765-4321']"
      ]
     },
     "execution_count": 61,
     "metadata": {},
     "output_type": "execute_result"
    }
   ],
   "source": [
    "# Import the 're' module from 'regex' library\n",
    "import regex as re\n",
    "# Define a function named 'tokenize' that takes a string 'text' as input\n",
    "def tokenize(text):\n",
    "    # Use 're.findall()' method to find all occurrences of the pattern '(?<=)\\([0-9]{3}\\) [0-9]{3}-[0-9]{4}' in the 'text' string\n",
    "    return re.findall(r'(?<=)\\([0-9]{3}\\) [0-9]{3}-[0-9]{4}', text)\n",
    "# Call the 'tokenize' function with the string ''Call (123) 456-7890 or Call (098) 765-4321''\n",
    "x = tokenize('Call (123) 456-7890 or Call (098) 765-4321')\n",
    "x"
   ]
  },
  {
   "cell_type": "code",
   "execution_count": null,
   "id": "ddb624e4",
   "metadata": {},
   "outputs": [],
   "source": []
  },
  {
   "cell_type": "code",
   "execution_count": null,
   "id": "4c79b9ba",
   "metadata": {},
   "outputs": [],
   "source": []
  }
 ],
 "metadata": {
  "kernelspec": {
   "display_name": "Python 3 (ipykernel)",
   "language": "python",
   "name": "python3"
  },
  "language_info": {
   "codemirror_mode": {
    "name": "ipython",
    "version": 3
   },
   "file_extension": ".py",
   "mimetype": "text/x-python",
   "name": "python",
   "nbconvert_exporter": "python",
   "pygments_lexer": "ipython3",
   "version": "3.11.5"
  }
 },
 "nbformat": 4,
 "nbformat_minor": 5
}
