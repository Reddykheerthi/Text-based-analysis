{
 "cells": [
  {
   "cell_type": "markdown",
   "id": "dc291e16",
   "metadata": {},
   "source": [
    "# Spring Operation"
   ]
  },
  {
   "cell_type": "code",
   "execution_count": 1,
   "id": "f2b0de2d",
   "metadata": {},
   "outputs": [
    {
     "data": {
      "text/plain": [
       "'Hello'"
      ]
     },
     "execution_count": 1,
     "metadata": {},
     "output_type": "execute_result"
    }
   ],
   "source": [
    "a=\"Hello\" #assigning string to a variable\n",
    "a"
   ]
  },
  {
   "cell_type": "markdown",
   "id": "b22860bb",
   "metadata": {},
   "source": [
    "# Accessing Individual letter"
   ]
  },
  {
   "cell_type": "code",
   "execution_count": 4,
   "id": "daaa34d7",
   "metadata": {},
   "outputs": [
    {
     "data": {
      "text/plain": [
       "'H'"
      ]
     },
     "execution_count": 4,
     "metadata": {},
     "output_type": "execute_result"
    }
   ],
   "source": [
    "a= \" Hello, World!\"\n",
    "a[1] #finding the first index of a string\n"
   ]
  },
  {
   "cell_type": "code",
   "execution_count": 5,
   "id": "33ecfc8d",
   "metadata": {},
   "outputs": [
    {
     "data": {
      "text/plain": [
       "'ell'"
      ]
     },
     "execution_count": 5,
     "metadata": {},
     "output_type": "execute_result"
    }
   ],
   "source": [
    "a[2:5]  #finding the string from index2 to index4 i.e it is excluded"
   ]
  },
  {
   "cell_type": "markdown",
   "id": "af52fd2e",
   "metadata": {},
   "source": [
    "# More string functions:"
   ]
  },
  {
   "cell_type": "code",
   "execution_count": 6,
   "id": "9ba71f7c",
   "metadata": {},
   "outputs": [
    {
     "data": {
      "text/plain": [
       "14"
      ]
     },
     "execution_count": 6,
     "metadata": {},
     "output_type": "execute_result"
    }
   ],
   "source": [
    "len(a) #finding the length of a string"
   ]
  },
  {
   "cell_type": "markdown",
   "id": "ad7bd27b",
   "metadata": {},
   "source": [
    "# Uppercase"
   ]
  },
  {
   "cell_type": "code",
   "execution_count": 7,
   "id": "72e63a90",
   "metadata": {},
   "outputs": [
    {
     "data": {
      "text/plain": [
       "' HELLO, WORLD!'"
      ]
     },
     "execution_count": 7,
     "metadata": {},
     "output_type": "execute_result"
    }
   ],
   "source": [
    "a.upper() #converting the string to uppercase"
   ]
  },
  {
   "cell_type": "markdown",
   "id": "a70e102a",
   "metadata": {},
   "source": [
    "# Lowercase"
   ]
  },
  {
   "cell_type": "code",
   "execution_count": 8,
   "id": "c79e6515",
   "metadata": {},
   "outputs": [
    {
     "data": {
      "text/plain": [
       "' hello, world!'"
      ]
     },
     "execution_count": 8,
     "metadata": {},
     "output_type": "execute_result"
    }
   ],
   "source": [
    "a.lower() #converting the string to lowercase"
   ]
  },
  {
   "cell_type": "markdown",
   "id": "65fe1a56",
   "metadata": {},
   "source": [
    "# Replacing character"
   ]
  },
  {
   "cell_type": "code",
   "execution_count": 9,
   "id": "58e6bad7",
   "metadata": {},
   "outputs": [
    {
     "data": {
      "text/plain": [
       "' Jello, World!'"
      ]
     },
     "execution_count": 9,
     "metadata": {},
     "output_type": "execute_result"
    }
   ],
   "source": [
    "a.replace(\"H\", \"J\") #replacing character \"H\" with \"J\""
   ]
  },
  {
   "cell_type": "markdown",
   "id": "5528ba82",
   "metadata": {},
   "source": [
    "# String Concatenation"
   ]
  },
  {
   "cell_type": "code",
   "execution_count": 12,
   "id": "c43ab2b9",
   "metadata": {},
   "outputs": [
    {
     "data": {
      "text/plain": [
       "'Hello world'"
      ]
     },
     "execution_count": 12,
     "metadata": {},
     "output_type": "execute_result"
    }
   ],
   "source": [
    "a= \"Hello\"\n",
    "b= \"world\"\n",
    "c= a +\" \"+ b #concatenates the string a and b with space in between and assign it to c\n",
    "c"
   ]
  },
  {
   "cell_type": "markdown",
   "id": "d397026b",
   "metadata": {},
   "source": [
    "# String Methods"
   ]
  },
  {
   "cell_type": "code",
   "execution_count": 13,
   "id": "97ae73b9",
   "metadata": {},
   "outputs": [
    {
     "data": {
      "text/plain": [
       "False"
      ]
     },
     "execution_count": 13,
     "metadata": {},
     "output_type": "execute_result"
    }
   ],
   "source": [
    "a.islower() #checks if the string are lowercase using 'islower()' method"
   ]
  },
  {
   "cell_type": "markdown",
   "id": "f244055d",
   "metadata": {},
   "source": [
    "# Uppercase"
   ]
  },
  {
   "cell_type": "code",
   "execution_count": 14,
   "id": "f97f7d67",
   "metadata": {},
   "outputs": [
    {
     "data": {
      "text/plain": [
       "False"
      ]
     },
     "execution_count": 14,
     "metadata": {},
     "output_type": "execute_result"
    }
   ],
   "source": [
    "a.isupper()  #checks if the string are uppercase using 'isupper()' method"
   ]
  },
  {
   "cell_type": "markdown",
   "id": "64b297dc",
   "metadata": {},
   "source": [
    "# Alphanumeric"
   ]
  },
  {
   "cell_type": "code",
   "execution_count": 15,
   "id": "39a5e2ea",
   "metadata": {},
   "outputs": [
    {
     "data": {
      "text/plain": [
       "True"
      ]
     },
     "execution_count": 15,
     "metadata": {},
     "output_type": "execute_result"
    }
   ],
   "source": [
    "a.isalnum() #checks if the string are alphanumeric using 'isalnum()' method"
   ]
  },
  {
   "cell_type": "markdown",
   "id": "9e065376",
   "metadata": {},
   "source": [
    "# Remove first occurance of a string"
   ]
  },
  {
   "cell_type": "code",
   "execution_count": 2,
   "id": "20d1230e",
   "metadata": {},
   "outputs": [
    {
     "data": {
      "text/plain": [
       "'ello world'"
      ]
     },
     "execution_count": 2,
     "metadata": {},
     "output_type": "execute_result"
    }
   ],
   "source": [
    "d= \"Hello world\" #Removes all occurance of the string using 'lstrip()'\n",
    "d.lstrip(\"H\")"
   ]
  },
  {
   "cell_type": "markdown",
   "id": "7fa9596f",
   "metadata": {},
   "source": [
    "# Endswith"
   ]
  },
  {
   "cell_type": "code",
   "execution_count": 28,
   "id": "6d96e2ea",
   "metadata": {},
   "outputs": [
    {
     "data": {
      "text/plain": [
       "True"
      ]
     },
     "execution_count": 28,
     "metadata": {},
     "output_type": "execute_result"
    }
   ],
   "source": [
    "d.endswith(\"world\") # Checks if the string ends with the string \"world\" using the 'endswith()' method"
   ]
  },
  {
   "cell_type": "code",
   "execution_count": null,
   "id": "1b15405b",
   "metadata": {},
   "outputs": [],
   "source": [
    "startswith"
   ]
  },
  {
   "cell_type": "code",
   "execution_count": 30,
   "id": "f8156e9f",
   "metadata": {},
   "outputs": [
    {
     "data": {
      "text/plain": [
       "False"
      ]
     },
     "execution_count": 30,
     "metadata": {},
     "output_type": "execute_result"
    }
   ],
   "source": [
    "d.startswith(\"world\") # Checks if the string ends with the string \"world\" using the 'endswith()' method "
   ]
  },
  {
   "cell_type": "code",
   "execution_count": null,
   "id": "ca634bb2",
   "metadata": {},
   "outputs": [],
   "source": [
    "startswith"
   ]
  },
  {
   "cell_type": "code",
   "execution_count": 31,
   "id": "fb22c160",
   "metadata": {},
   "outputs": [
    {
     "data": {
      "text/plain": [
       "True"
      ]
     },
     "execution_count": 31,
     "metadata": {},
     "output_type": "execute_result"
    }
   ],
   "source": [
    "d.startswith(\"Hello\") # Checks if the string starts with the string \"world\" using the 'endswith()' method"
   ]
  },
  {
   "cell_type": "code",
   "execution_count": 32,
   "id": "ab3e2ca8",
   "metadata": {},
   "outputs": [
    {
     "data": {
      "text/plain": [
       "6"
      ]
     },
     "execution_count": 32,
     "metadata": {},
     "output_type": "execute_result"
    }
   ],
   "source": [
    "d.find(\"world\") #Finds the starting index of the string \"world\" using the 'find()' method"
   ]
  },
  {
   "cell_type": "code",
   "execution_count": 33,
   "id": "e67b7cc3",
   "metadata": {},
   "outputs": [
    {
     "data": {
      "text/plain": [
       "'old is gold'"
      ]
     },
     "execution_count": 33,
     "metadata": {},
     "output_type": "execute_result"
    }
   ],
   "source": [
    "name_a= \"                 old is gold\"\n",
    "name_a.lstrip() # Removes all leading whitespace characters from the string 'name_a' using the 'lstrip()' method"
   ]
  },
  {
   "cell_type": "code",
   "execution_count": 36,
   "id": "3dd137c1",
   "metadata": {},
   "outputs": [
    {
     "data": {
      "text/plain": [
       "'old is diamond'"
      ]
     },
     "execution_count": 36,
     "metadata": {},
     "output_type": "execute_result"
    }
   ],
   "source": [
    "name_a= \"old is gold\"\n",
    "name_a.replace(\"gold\", \"diamond\") # Replaces all occurrences of the substring \"gold\" in the string 'name_a' with \"diamond\" using the 'replace()' method"
   ]
  },
  {
   "cell_type": "code",
   "execution_count": 38,
   "id": "a05d70ee",
   "metadata": {},
   "outputs": [
    {
     "data": {
      "text/plain": [
       "'old is $'"
      ]
     },
     "execution_count": 38,
     "metadata": {},
     "output_type": "execute_result"
    }
   ],
   "source": [
    "name_a.replace(\"gold\", \"$\") # Replaces string \"gold\" in the 'name_a' with \"$\" using the 'replace()' method"
   ]
  },
  {
   "cell_type": "markdown",
   "id": "d12d080b",
   "metadata": {},
   "source": [
    "# Splitting a string"
   ]
  },
  {
   "cell_type": "code",
   "execution_count": 39,
   "id": "903c8300",
   "metadata": {},
   "outputs": [
    {
     "data": {
      "text/plain": [
       "['old', 'is', 'gold']"
      ]
     },
     "execution_count": 39,
     "metadata": {},
     "output_type": "execute_result"
    }
   ],
   "source": [
    "name_a.split() # Splits the string 'name_a' into a list using the 'split()' method"
   ]
  },
  {
   "cell_type": "code",
   "execution_count": 40,
   "id": "9c04d68b",
   "metadata": {},
   "outputs": [],
   "source": [
    "name_b=\"\""
   ]
  },
  {
   "cell_type": "code",
   "execution_count": 41,
   "id": "eba5c7f6",
   "metadata": {},
   "outputs": [
    {
     "data": {
      "text/plain": [
       "[]"
      ]
     },
     "execution_count": 41,
     "metadata": {},
     "output_type": "execute_result"
    }
   ],
   "source": [
    "name_b.split() # Splits the string 'name_b' into a list using the 'split()' method"
   ]
  },
  {
   "cell_type": "code",
   "execution_count": 43,
   "id": "4f6b2ac6",
   "metadata": {},
   "outputs": [
    {
     "data": {
      "text/plain": [
       "['www', 'example', 'com']"
      ]
     },
     "execution_count": 43,
     "metadata": {},
     "output_type": "execute_result"
    }
   ],
   "source": [
    "list_a = \"www.example.com\"\n",
    "list_a.split(\".\") # Splits the string 'list_a' into a list based on the dot (.) using the 'split()' method"
   ]
  },
  {
   "cell_type": "markdown",
   "id": "ed8669a4",
   "metadata": {},
   "source": [
    "# Regular Expression"
   ]
  },
  {
   "cell_type": "code",
   "execution_count": 44,
   "id": "1244bb2f",
   "metadata": {},
   "outputs": [
    {
     "data": {
      "text/plain": [
       "['abc', 'abc', 'abc', 'abc', 'abc']"
      ]
     },
     "execution_count": 44,
     "metadata": {},
     "output_type": "execute_result"
    }
   ],
   "source": [
    "import regex as re\n",
    "def tokenize(text):\n",
    "    return re.findall(r'abc', text) # Uses 're.findall()' method to find all occurrences of the pattern 'abc' in the 'text' string\n",
    "x = tokenize(\"abcd 45abc abc% abc.com acbrx .=.abc.=. ab c cba ABC \") # Calls the 'tokenize' function with the string\n",
    "x"
   ]
  },
  {
   "cell_type": "markdown",
   "id": "5e9136a6",
   "metadata": {},
   "source": [
    "# Groups and Ranges"
   ]
  },
  {
   "cell_type": "code",
   "execution_count": 45,
   "id": "90436bd9",
   "metadata": {},
   "outputs": [
    {
     "data": {
      "text/plain": [
       "['The']"
      ]
     },
     "execution_count": 45,
     "metadata": {},
     "output_type": "execute_result"
    }
   ],
   "source": [
    "import regex as re\n",
    "def tokenize(text):\n",
    "    return re.findall(r'^The', text)# Uses 're.findall()' method to find all occurrences of the pattern 'the' in the 'text' string\n",
    "x = tokenize(\"Them \")# Calls the 'tokenize' function with the string\n",
    "x"
   ]
  },
  {
   "cell_type": "code",
   "execution_count": 48,
   "id": "29daa065",
   "metadata": {},
   "outputs": [
    {
     "data": {
      "text/plain": [
       "[]"
      ]
     },
     "execution_count": 48,
     "metadata": {},
     "output_type": "execute_result"
    }
   ],
   "source": [
    "import regex as re\n",
    "def tokenize(text):\n",
    "    return re.findall(r'^The', text) # Uses 're.findall()' method to find all occurrences of the pattern 'The' in the 'text' string\n",
    "x = tokenize(\"them\") # Calls the 'tokenize' function with the string\n",
    "x"
   ]
  },
  {
   "cell_type": "code",
   "execution_count": 49,
   "id": "f4076e57",
   "metadata": {},
   "outputs": [
    {
     "name": "stdout",
     "output_type": "stream",
     "text": [
      "['Bye']\n"
     ]
    }
   ],
   "source": [
    "import regex as re\n",
    "def tokenize(text):\n",
    "    return re.findall(r'Bye$', text) # Uses 're.findall()' method to find all occurrences of the pattern 'Bye$' in the 'text' string\n",
    "x = tokenize(\"They said goodBye\") # Calls the 'tokenize' function with the string\n",
    "print(x)"
   ]
  },
  {
   "cell_type": "code",
   "execution_count": 51,
   "id": "91c7ce32",
   "metadata": {
    "scrolled": true
   },
   "outputs": [
    {
     "name": "stdout",
     "output_type": "stream",
     "text": [
      "['abc', 'xyz', 'xyz']\n"
     ]
    }
   ],
   "source": [
    "import regex as re\n",
    "def tokenize(text):\n",
    "    return re.findall(r'abc|xyz', text) # Uses 're.findall()' method to find all occurrences of the pattern 'abc|xyz' in the 'text' string\n",
    "x = tokenize(\"abcd xsdxyz xyz derf\") # Calls the 'tokenize' function with the string\n",
    "print(x)"
   ]
  },
  {
   "cell_type": "code",
   "execution_count": null,
   "id": "c3745d58",
   "metadata": {},
   "outputs": [],
   "source": []
  },
  {
   "cell_type": "code",
   "execution_count": null,
   "id": "8332f653",
   "metadata": {},
   "outputs": [],
   "source": []
  },
  {
   "cell_type": "code",
   "execution_count": null,
   "id": "33af6c79",
   "metadata": {},
   "outputs": [],
   "source": []
  },
  {
   "cell_type": "code",
   "execution_count": null,
   "id": "8b1fb937",
   "metadata": {},
   "outputs": [],
   "source": []
  }
 ],
 "metadata": {
  "kernelspec": {
   "display_name": "Python 3 (ipykernel)",
   "language": "python",
   "name": "python3"
  },
  "language_info": {
   "codemirror_mode": {
    "name": "ipython",
    "version": 3
   },
   "file_extension": ".py",
   "mimetype": "text/x-python",
   "name": "python",
   "nbconvert_exporter": "python",
   "pygments_lexer": "ipython3",
   "version": "3.11.5"
  }
 },
 "nbformat": 4,
 "nbformat_minor": 5
}
